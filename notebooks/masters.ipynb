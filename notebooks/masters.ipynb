{
  "nbformat": 4,
  "nbformat_minor": 0,
  "metadata": {
    "colab": {
      "provenance": [],
      "authorship_tag": "ABX9TyNImXboFnAJAzqC6vN6USqT",
      "include_colab_link": true
    },
    "kernelspec": {
      "name": "python3",
      "display_name": "Python 3"
    },
    "language_info": {
      "name": "python"
    }
  },
  "cells": [
    {
      "cell_type": "markdown",
      "metadata": {
        "id": "view-in-github",
        "colab_type": "text"
      },
      "source": [
        "<a href=\"https://colab.research.google.com/github/Ahmed8501/Masters/blob/main/notebooks/masters.ipynb\" target=\"_parent\"><img src=\"https://colab.research.google.com/assets/colab-badge.svg\" alt=\"Open In Colab\"/></a>"
      ]
    },
    {
      "cell_type": "code",
      "source": [
        "import os\n",
        "import openai\n",
        "import json\n",
        "import pandas as pd\n",
        "from sentence_transformers import SentenceTransformer\n",
        "from sklearn.metrics.pairwise import cosine_similarity\n"
      ],
      "metadata": {
        "id": "hzr_tlQ_AvKu"
      },
      "execution_count": 1,
      "outputs": []
    },
    {
      "cell_type": "code",
      "execution_count": 2,
      "metadata": {
        "colab": {
          "base_uri": "https://localhost:8080/"
        },
        "id": "hPzQiFXL-Dvn",
        "outputId": "34bf00e5-8c54-4915-caba-f81171c1b5ea"
      },
      "outputs": [
        {
          "output_type": "stream",
          "name": "stdout",
          "text": [
            "Cloning into 'Masters'...\n",
            "remote: Enumerating objects: 74, done.\u001b[K\n",
            "remote: Counting objects: 100% (74/74), done.\u001b[K\n",
            "remote: Compressing objects: 100% (71/71), done.\u001b[K\n",
            "remote: Total 74 (delta 26), reused 0 (delta 0), pack-reused 0 (from 0)\u001b[K\n",
            "Receiving objects: 100% (74/74), 1.18 MiB | 2.42 MiB/s, done.\n",
            "Resolving deltas: 100% (26/26), done.\n"
          ]
        }
      ],
      "source": [
        "!git clone https://github.com/Ahmed8501/Masters.git\n"
      ]
    },
    {
      "cell_type": "code",
      "source": [
        "%cd Masters/notebooks\n"
      ],
      "metadata": {
        "colab": {
          "base_uri": "https://localhost:8080/"
        },
        "id": "WDP-X60M-Qqo",
        "outputId": "4ceba570-8fdc-4f33-afa2-f7940d5a7eb7"
      },
      "execution_count": 3,
      "outputs": [
        {
          "output_type": "stream",
          "name": "stdout",
          "text": [
            "/content/Masters/notebooks\n"
          ]
        }
      ]
    },
    {
      "cell_type": "code",
      "source": [
        "from google.colab import drive\n",
        "drive.mount('/content/drive')\n",
        "\n",
        "# Navigate to the upload location\n",
        "%cd /content/drive/MyDrive/spider_data\n",
        "\n",
        "# Unzip it\n",
        "# !unzip -q database.zip\n"
      ],
      "metadata": {
        "id": "LmAofdAwS1g_",
        "colab": {
          "base_uri": "https://localhost:8080/"
        },
        "outputId": "1a5f1484-d013-44a2-b1e0-c24b0a085e32"
      },
      "execution_count": 5,
      "outputs": [
        {
          "output_type": "stream",
          "name": "stdout",
          "text": [
            "Drive already mounted at /content/drive; to attempt to forcibly remount, call drive.mount(\"/content/drive\", force_remount=True).\n",
            "/content/drive/MyDrive/spider_data\n"
          ]
        }
      ]
    },
    {
      "cell_type": "markdown",
      "source": [
        "## Checking spider data"
      ],
      "metadata": {
        "id": "UPs6JTzHE85m"
      }
    },
    {
      "cell_type": "code",
      "source": [
        "# Check the number of entries in train_spider.json\n",
        "with open('/content/Masters/data/spider/train_spider.json') as f:\n",
        "    train_data = json.load(f)\n",
        "\n",
        "print(len(train_data))"
      ],
      "metadata": {
        "colab": {
          "base_uri": "https://localhost:8080/"
        },
        "id": "FT5YICpqFR82",
        "outputId": "9c8506ea-3b69-4cf1-f4e1-46bb867daca2"
      },
      "execution_count": 7,
      "outputs": [
        {
          "output_type": "stream",
          "name": "stdout",
          "text": [
            "7000\n"
          ]
        }
      ]
    },
    {
      "cell_type": "code",
      "source": [
        "# Check the number of entries in dev.json\n",
        "with open('/content/Masters/data/spider/dev.json') as f:\n",
        "    train_data = json.load(f)\n",
        "\n",
        "print(len(train_data))"
      ],
      "metadata": {
        "colab": {
          "base_uri": "https://localhost:8080/"
        },
        "id": "KipwuNxLFs1h",
        "outputId": "f1792f20-6ed7-4e0e-eca6-091df265324f"
      },
      "execution_count": 9,
      "outputs": [
        {
          "output_type": "stream",
          "name": "stdout",
          "text": [
            "1034\n"
          ]
        }
      ]
    },
    {
      "cell_type": "code",
      "source": [
        "# Check the number of schemas in tables.json\n",
        "\n",
        "with open('/content/Masters/data/spider/tables.json') as f:\n",
        "    train_data = json.load(f)\n",
        "\n",
        "print(len(train_data))"
      ],
      "metadata": {
        "colab": {
          "base_uri": "https://localhost:8080/"
        },
        "id": "j5poY_DaFkbl",
        "outputId": "b43dd728-dedb-4102-fc50-842ec57d8d7c"
      },
      "execution_count": 8,
      "outputs": [
        {
          "output_type": "stream",
          "name": "stdout",
          "text": [
            "166\n"
          ]
        }
      ]
    },
    {
      "cell_type": "code",
      "source": [
        "sample = train_data[0]\n",
        "print(sample['question'])\n",
        "print(sample['sql'])\n",
        "print(sample['db_id'])\n"
      ],
      "metadata": {
        "colab": {
          "base_uri": "https://localhost:8080/"
        },
        "id": "4qZgX1bMF_xx",
        "outputId": "17246fc3-a07d-4142-9bcf-19d0382a2798"
      },
      "execution_count": 10,
      "outputs": [
        {
          "output_type": "stream",
          "name": "stdout",
          "text": [
            "How many singers do we have?\n",
            "{'from': {'table_units': [['table_unit', 1]], 'conds': []}, 'select': [False, [[3, [0, [0, 0, False], None]]]], 'where': [], 'groupBy': [], 'having': [], 'orderBy': [], 'limit': None, 'intersect': None, 'union': None, 'except': None}\n",
            "concert_singer\n"
          ]
        }
      ]
    },
    {
      "cell_type": "code",
      "source": [
        "#Checking tables in a specific database\n",
        "db_path = '/content/drive/MyDrive/spider_data/database/concert_singer'\n",
        "import sqlite3\n",
        "\n",
        "conn = sqlite3.connect(f'{db_path}/concert_singer.sqlite')\n",
        "cursor = conn.cursor()\n",
        "\n",
        "cursor.execute(\"SELECT name FROM sqlite_master WHERE type='table';\")\n",
        "tables = cursor.fetchall()\n",
        "\n",
        "print(\"Tables in concert_singer:\", tables)\n"
      ],
      "metadata": {
        "colab": {
          "base_uri": "https://localhost:8080/"
        },
        "id": "oZinAVfpGDRt",
        "outputId": "aec41ed2-7268-4b46-a4db-7503db7b6653"
      },
      "execution_count": 12,
      "outputs": [
        {
          "output_type": "stream",
          "name": "stdout",
          "text": [
            "Tables in concert_singer: [('stadium',), ('singer',), ('concert',), ('singer_in_concert',)]\n"
          ]
        }
      ]
    },
    {
      "cell_type": "code",
      "source": [
        "# This lists:\n",
        "\n",
        "# column names\n",
        "# data types\n",
        "# if it's a primary key\n",
        "\n",
        "cursor.execute(\"PRAGMA table_info(singer);\")\n",
        "print(cursor.fetchall())\n"
      ],
      "metadata": {
        "colab": {
          "base_uri": "https://localhost:8080/"
        },
        "id": "qmbJvcXVGtlC",
        "outputId": "7eb20ccd-82a3-4728-cc01-745645b35bd1"
      },
      "execution_count": 13,
      "outputs": [
        {
          "output_type": "stream",
          "name": "stdout",
          "text": [
            "[(0, 'Singer_ID', 'INT', 0, None, 1), (1, 'Name', 'TEXT', 0, None, 0), (2, 'Country', 'TEXT', 0, None, 0), (3, 'Song_Name', 'TEXT', 0, None, 0), (4, 'Song_release_year', 'TEXT', 0, None, 0), (5, 'Age', 'INT', 0, None, 0), (6, 'Is_male', 'bool', 0, None, 0)]\n"
          ]
        }
      ]
    },
    {
      "cell_type": "markdown",
      "source": [
        "## **Schema Linking Annotations**"
      ],
      "metadata": {
        "id": "TTGWxmpHHGJl"
      }
    },
    {
      "cell_type": "code",
      "source": [],
      "metadata": {
        "id": "M4eOGRySHInY"
      },
      "execution_count": null,
      "outputs": []
    }
  ]
}